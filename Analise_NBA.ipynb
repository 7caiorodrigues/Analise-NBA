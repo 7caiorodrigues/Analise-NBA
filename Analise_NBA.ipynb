{
  "nbformat": 4,
  "nbformat_minor": 0,
  "metadata": {
    "colab": {
      "provenance": [],
      "collapsed_sections": [
        "eIM40HC1CgoX",
        "DXw474UBRXw2",
        "lj0lqs7kUq8s",
        "hgdRFepjiPJm",
        "8fLwnwc1ltGy",
        "d6pWbfymmyu_",
        "fu1i33LNqt7_",
        "A8L85Ro6r6gr"
      ],
      "authorship_tag": "ABX9TyPI+oGBdvlwTfTEyG4DrmiM",
      "include_colab_link": true
    },
    "kernelspec": {
      "name": "python3",
      "display_name": "Python 3"
    },
    "language_info": {
      "name": "python"
    }
  },
  "cells": [
    {
      "cell_type": "markdown",
      "metadata": {
        "id": "view-in-github",
        "colab_type": "text"
      },
      "source": [
        "<a href=\"https://colab.research.google.com/github/7caiorodrigues/Projects/blob/main/Analise_NBA.ipynb\" target=\"_parent\"><img src=\"https://colab.research.google.com/assets/colab-badge.svg\" alt=\"Open In Colab\"/></a>"
      ]
    },
    {
      "cell_type": "markdown",
      "source": [
        "####Tratamentos iniciais"
      ],
      "metadata": {
        "id": "cwEQ6tVXVjdh"
      }
    },
    {
      "cell_type": "code",
      "execution_count": null,
      "metadata": {
        "id": "WBmyZefwl32Y"
      },
      "outputs": [],
      "source": [
        "import numpy as np\n",
        "import pandas as pd\n",
        "import matplotlib.pyplot as plt\n",
        "import seaborn as sns"
      ]
    },
    {
      "cell_type": "code",
      "source": [
        "#Importando o dataset\n",
        "df = pd.read_csv(\"all_seasons.csv\")\n",
        "df['draft_round'].unique()"
      ],
      "metadata": {
        "id": "3h88nr55me48"
      },
      "execution_count": null,
      "outputs": []
    },
    {
      "cell_type": "code",
      "source": [
        "#Verificando as variáveis e o tipo de cada uma delas\n",
        "df.info()"
      ],
      "metadata": {
        "id": "-TPSH253nSmx"
      },
      "execution_count": null,
      "outputs": []
    },
    {
      "cell_type": "code",
      "source": [
        "df"
      ],
      "metadata": {
        "id": "-il_b1QNnZXY"
      },
      "execution_count": null,
      "outputs": []
    },
    {
      "cell_type": "code",
      "source": [
        "#Dropando a primeira coluna que seria tipo um indice\n",
        "df = df.drop(\"Unnamed: 0\", axis=1)"
      ],
      "metadata": {
        "id": "6mlP1__bn8Yg"
      },
      "execution_count": null,
      "outputs": []
    },
    {
      "cell_type": "code",
      "source": [
        "df.head()"
      ],
      "metadata": {
        "id": "vME6z23uoTo2"
      },
      "execution_count": null,
      "outputs": []
    },
    {
      "cell_type": "code",
      "source": [
        "df.pts.describe()"
      ],
      "metadata": {
        "id": "_w8kzmJzoVDP"
      },
      "execution_count": null,
      "outputs": []
    },
    {
      "cell_type": "code",
      "source": [
        "#jogador mais velho da liga\n",
        "df.query('age == 44')"
      ],
      "metadata": {
        "id": "f8fOOJ6xoZyv"
      },
      "execution_count": null,
      "outputs": []
    },
    {
      "cell_type": "code",
      "source": [
        "#Pegando a lista de nomes de times abreviados\n",
        "abrev_times  = df.team_abbreviation.unique()\n",
        "abrev_times"
      ],
      "metadata": {
        "id": "gGD8B5Keof7m"
      },
      "execution_count": null,
      "outputs": []
    },
    {
      "cell_type": "code",
      "source": [
        "#Contagem de jogadores por país\n",
        "\n",
        "df_novo = df.country.value_counts()\n",
        "df_novo"
      ],
      "metadata": {
        "id": "CfTRfboxpEKG"
      },
      "execution_count": null,
      "outputs": []
    },
    {
      "cell_type": "code",
      "source": [
        "#Media de pontos dos jogadores por país\n",
        "\n",
        "df.groupby('country')['pts'].median()"
      ],
      "metadata": {
        "id": "FwwDbT-Uq8AE"
      },
      "execution_count": null,
      "outputs": []
    },
    {
      "cell_type": "code",
      "source": [
        "#Listando os jogadores brasileiros que atuaram na temporada 2021-22\n",
        "\n",
        "df.query(\"country == 'Brazil' and season == '2021-22'\")"
      ],
      "metadata": {
        "id": "3g3fe6jurVgT"
      },
      "execution_count": null,
      "outputs": []
    },
    {
      "cell_type": "code",
      "source": [
        "#Pegando os valores unicos de identificação de cada temporada\n",
        "df.season.unique()"
      ],
      "metadata": {
        "id": "OomIww7Ysmae"
      },
      "execution_count": null,
      "outputs": []
    },
    {
      "cell_type": "code",
      "source": [
        "df.info()"
      ],
      "metadata": {
        "id": "CDbOJkmJvMC_"
      },
      "execution_count": null,
      "outputs": []
    },
    {
      "cell_type": "markdown",
      "source": [
        "Analises:\n",
        "\n",
        "- Pegar o maior pontuador de cada temporada;\n",
        "- Ver em qual temporada houve a maior média de pontos.\n",
        "- Qual a média de pontos dos seed #1 do draft em cada temporada\n",
        "- Teve algum não draftado que fez mais de 20ppg em alguma temporada?\n",
        "- Media de altura dos jogadores por temporada\n",
        "- Media de pontos de cada round do draft por temporada\n",
        "- Media de pontos por College na NBA\n",
        "- Media de Idade dos maiores pontuadores de cada temporada"
      ],
      "metadata": {
        "id": "gfL0ERy0ukO4"
      }
    },
    {
      "cell_type": "markdown",
      "source": [
        "#### Maior pontuador de cada temporada"
      ],
      "metadata": {
        "id": "eIM40HC1CgoX"
      }
    },
    {
      "cell_type": "code",
      "source": [
        "#Criando um DataFrame que pega o valor maximo da coluna 'pts' agrupando pela coluna 'season'\n",
        "df_pts = df.groupby('season')['pts'].max()\n",
        "df_fato = pd.DataFrame(df_pts)\n",
        "df_fato.info()"
      ],
      "metadata": {
        "id": "7ulutjBbtjX6"
      },
      "execution_count": null,
      "outputs": []
    },
    {
      "cell_type": "code",
      "source": [
        "df"
      ],
      "metadata": {
        "id": "6GKSqnTikbAD"
      },
      "execution_count": null,
      "outputs": []
    },
    {
      "cell_type": "code",
      "source": [
        "#Aqui eu pego o indice de cada valor considerado máximo para cada season e armazeno na variavel 'ow_index'\n",
        "#A variavel 'related_name' vai pegar no DataFrame qual o valor da coluna 'player_name' está relacionado a este indice\n",
        "#Depois crio um DataFrame com o nome dos jogadores\n",
        "\n",
        "row_index = df.groupby('season')['pts'].idxmax()\n",
        "name = df.loc[row_index, 'player_name']\n",
        "nomes = pd.DataFrame(name)\n",
        "nomes.info()"
      ],
      "metadata": {
        "id": "WIGDZMTLDMiu"
      },
      "execution_count": null,
      "outputs": []
    },
    {
      "cell_type": "code",
      "source": [
        "#Aqui veio o minidesafio dessa parte, pois, ao simplesmente copiar a coluna de um DF para o outros, os valores apareciam\n",
        "#no DF destino como NaN. Isso se deve pois os indices estavam trocados. Como sei que os DFs sao de tamanhos iguais,\n",
        "#igualei os indices para que o problema se resolvesse.\n",
        "\n",
        "nomes.index = df_fato.index\n",
        "df_fato['Nomes'] = nomes['player_name']\n",
        "df_fato"
      ],
      "metadata": {
        "id": "jeXGsFTJGaWx"
      },
      "execution_count": null,
      "outputs": []
    },
    {
      "cell_type": "code",
      "source": [
        "#Print indicando cada saída\n",
        "for index, row in df_fato.iterrows():\n",
        "    print(f\"O maior pontuador da temporada {index} foi o {row['Nomes']} com {row['pts']} ppg.\")"
      ],
      "metadata": {
        "id": "rTF0BQB_Nquo"
      },
      "execution_count": null,
      "outputs": []
    },
    {
      "cell_type": "markdown",
      "source": [
        "#### Ver em qual temporada houve a maior média de pontos"
      ],
      "metadata": {
        "id": "DXw474UBRXw2"
      }
    },
    {
      "cell_type": "code",
      "source": [
        "#Este comando pega a media de pontos agrupando pela variavel 'season' e depois o transforma num DataFrame\n",
        "\n",
        "df_media = df.groupby('season')['pts'].mean()\n",
        "df_media_per_season = pd.DataFrame(df_media)\n",
        "df_media_per_season"
      ],
      "metadata": {
        "id": "ay1VePRKRe3B"
      },
      "execution_count": null,
      "outputs": []
    },
    {
      "cell_type": "code",
      "source": [
        "#Pega o maior valor entre as medias e em qual indice ele está.\n",
        "max_value = df_media_per_season['pts'].max()\n",
        "row_index = df_media_per_season['pts'].idxmax()\n"
      ],
      "metadata": {
        "id": "WvQHRIqqR7o3"
      },
      "execution_count": null,
      "outputs": []
    },
    {
      "cell_type": "code",
      "source": [
        "print(f\"A temporada com maior média de pontos na NBA foi a {row_index} com {max_value} pontos.\")"
      ],
      "metadata": {
        "id": "6rNjgRGvSJvX"
      },
      "execution_count": null,
      "outputs": []
    },
    {
      "cell_type": "markdown",
      "source": [
        "####Qual a média de pontos dos seed 1 do draft em cada temporada que foi draftado"
      ],
      "metadata": {
        "id": "lj0lqs7kUq8s"
      }
    },
    {
      "cell_type": "code",
      "source": [
        "#Verificando se havia alguem cadastrado com draft = 0\n",
        "\n",
        "sel = df['draft_number'] == 0\n",
        "sel.value_counts()"
      ],
      "metadata": {
        "id": "gRQg2k2zUvgj"
      },
      "execution_count": null,
      "outputs": []
    },
    {
      "cell_type": "code",
      "source": [
        "#Verificando os dados unicos de numeros de draft e verificamos que os jogadores que nao foram draftados são colocados\n",
        "#como 'UNdrafted'\n",
        "df['draft_number'].unique()"
      ],
      "metadata": {
        "id": "SA8Sgy1zYLS_"
      },
      "execution_count": null,
      "outputs": []
    },
    {
      "cell_type": "code",
      "source": [
        "#Como verificamos acima, podemos substituir a palavra 'Undrafted' para 0, que ai poderemos transformar a variavel em\n",
        "#int e trabalhar com ela abaixo.\n",
        "\n",
        "df['draft_number'] = df['draft_number'].replace(\"Undrafted\", 555555)\n",
        "df['draft_year'] = df['draft_year'].replace(\"Undrafted\", 555555)\n",
        "df['draft_round'] = df['draft_round'].replace(\"Undrafted\", 555555)"
      ],
      "metadata": {
        "id": "snW0OcPDXPv5"
      },
      "execution_count": null,
      "outputs": []
    },
    {
      "cell_type": "code",
      "source": [
        "#conferindo os valores unicos novamente pra ver se a substituição deu certo\n",
        "df['draft_number'].unique()"
      ],
      "metadata": {
        "id": "WSUu-9X9Xb1f"
      },
      "execution_count": null,
      "outputs": []
    },
    {
      "cell_type": "code",
      "source": [
        "#Alterando o tipo da variavel da coluna pra INT\n",
        "df['draft_number'] = df['draft_number'].astype(int)\n",
        "print(df.dtypes)"
      ],
      "metadata": {
        "id": "q08F-kK7Vq8a"
      },
      "execution_count": null,
      "outputs": []
    },
    {
      "cell_type": "code",
      "source": [
        "#Copiamos todos as linhas cuja coluna de 'draft_number' seja igual a 1\n",
        "seed = 1\n",
        "df_draft = df.loc[df['draft_number'] == seed].copy()\n",
        "\n",
        "#Resetamos os indices para o novo DataFrame\n",
        "df_draft.reset_index(drop=True, inplace=True)\n",
        "df_draft"
      ],
      "metadata": {
        "id": "tXGBF_U0V7ny"
      },
      "execution_count": null,
      "outputs": []
    },
    {
      "cell_type": "code",
      "source": [
        "#Pegamos os 4 primeiros digitos da coluna 'season' e geramos uma nova coluna que será util mais abaixo.\n",
        "df_draft['compara_season_draft'] = df_draft['season'].astype(str).str[:4]\n",
        "df_draft"
      ],
      "metadata": {
        "id": "THW1zb4hd5ub"
      },
      "execution_count": null,
      "outputs": []
    },
    {
      "cell_type": "code",
      "source": [
        "#geramos essa nova coluna no DataFrame geral também\n",
        "df['compara_season_draft'] = df['season'].astype(str).str[:4]"
      ],
      "metadata": {
        "id": "YPDb21lMZLsf"
      },
      "execution_count": null,
      "outputs": []
    },
    {
      "cell_type": "code",
      "source": [
        "#alteramos o tipo da variavel para essa nova coluna\n",
        "df['compara_season_draft'] = df['compara_season_draft'].astype(int)"
      ],
      "metadata": {
        "id": "krzo-gy5aLrP"
      },
      "execution_count": null,
      "outputs": []
    },
    {
      "cell_type": "code",
      "source": [
        "#Aqui pegamos todas as linhas que onde o 'draft_year' é igual ao 'compara_season_draft'\n",
        "#Por isso criamos essa variavel, pra gente conseguir pegar somente o jogador n1 do draft daquele ano\n",
        "\n",
        "df_draft_player_year = df_draft.loc[df_draft['draft_year'] == df_draft['compara_season_draft']]\n",
        "df_draft_player_year"
      ],
      "metadata": {
        "id": "JLPakJ0ba3Ir"
      },
      "execution_count": null,
      "outputs": []
    },
    {
      "cell_type": "code",
      "source": [
        "#Aqui listamos apenas algumas features do novo DataFrame que criamos, para facilitar a visualização\n",
        "list = ['player_name', 'draft_number', 'pts', 'season']\n",
        "\n",
        "#resetamos os indices e ordenamos pela coluna de pts, de forma descendente.\n",
        "df_draft_player_year = df_draft_player_year.reset_index(drop=True)\n",
        "df_draft_player_year[list].sort_values(by='pts', ascending=False)"
      ],
      "metadata": {
        "id": "_W_YBYDQenv3"
      },
      "execution_count": null,
      "outputs": []
    },
    {
      "cell_type": "markdown",
      "source": [
        "####Teve algum não draftado que fez mais de 20ppg em alguma temporada?"
      ],
      "metadata": {
        "id": "hgdRFepjiPJm"
      }
    },
    {
      "cell_type": "code",
      "source": [
        "df_undrafted = df.loc[df['draft_year'] == 555555]\n",
        "df_undrafted"
      ],
      "metadata": {
        "id": "6xR2yBRMiYEk"
      },
      "execution_count": null,
      "outputs": []
    },
    {
      "cell_type": "code",
      "source": [
        "df_undrafted_1 = df_undrafted.loc[df['pts'] > 15]\n",
        "list_und = ['player_name', 'pts', 'draft_year', 'season']\n",
        "df_undrafted_1[list_und]\n"
      ],
      "metadata": {
        "id": "T3z3OnoIi00N"
      },
      "execution_count": null,
      "outputs": []
    },
    {
      "cell_type": "markdown",
      "source": [
        "####Media de altura dos jogadores por temporada"
      ],
      "metadata": {
        "id": "8fLwnwc1ltGy"
      }
    },
    {
      "cell_type": "code",
      "source": [
        "df.info()"
      ],
      "metadata": {
        "id": "0_wQYi6Rl0Oq"
      },
      "execution_count": null,
      "outputs": []
    },
    {
      "cell_type": "code",
      "source": [
        "df.groupby('season')['player_height'].mean()"
      ],
      "metadata": {
        "id": "5ClOmSm6l2pd"
      },
      "execution_count": null,
      "outputs": []
    },
    {
      "cell_type": "code",
      "source": [],
      "metadata": {
        "id": "8mYNGcU6mH3F"
      },
      "execution_count": null,
      "outputs": []
    },
    {
      "cell_type": "markdown",
      "source": [
        "####Media de pontos de cada round do draft por temporada"
      ],
      "metadata": {
        "id": "d6pWbfymmyu_"
      }
    },
    {
      "cell_type": "code",
      "source": [
        "rounds = df['draft_round'].unique()\n",
        "rounds"
      ],
      "metadata": {
        "id": "DdpPLBOMm9Kn"
      },
      "execution_count": null,
      "outputs": []
    },
    {
      "cell_type": "code",
      "source": [
        "df.groupby(\"draft_round\")['pts'].mean()"
      ],
      "metadata": {
        "id": "EBWwDWllnSaa"
      },
      "execution_count": null,
      "outputs": []
    },
    {
      "cell_type": "code",
      "source": [],
      "metadata": {
        "id": "hthESrConWkI"
      },
      "execution_count": null,
      "outputs": []
    },
    {
      "cell_type": "markdown",
      "source": [
        "####Media de pontos por College na NBA\n",
        "\n"
      ],
      "metadata": {
        "id": "fu1i33LNqt7_"
      }
    },
    {
      "cell_type": "code",
      "source": [
        "df_college = df.groupby('college')['pts'].mean()"
      ],
      "metadata": {
        "id": "w6EvpypWqvpF"
      },
      "execution_count": 336,
      "outputs": []
    },
    {
      "cell_type": "code",
      "source": [
        "df_college = pd.DataFrame(df_college)\n",
        "df_college.sort_values(by='pts', ascending=False)"
      ],
      "metadata": {
        "id": "9V42xRC3q42V"
      },
      "execution_count": null,
      "outputs": []
    },
    {
      "cell_type": "code",
      "source": [
        "df_players_davidson = df.loc[df['college'] == \"Davidson\"]\n",
        "df_players_davidson"
      ],
      "metadata": {
        "id": "2ITQiTVTrdJ6"
      },
      "execution_count": null,
      "outputs": []
    },
    {
      "cell_type": "markdown",
      "source": [],
      "metadata": {
        "id": "FpFzJh0Or5uV"
      }
    },
    {
      "cell_type": "markdown",
      "source": [
        "###Media de idade geral dos maiores pontuadores de cada temporada"
      ],
      "metadata": {
        "id": "A8L85Ro6r6gr"
      }
    },
    {
      "cell_type": "code",
      "source": [
        "#Agrupando os maiores pontuadores de cada temporada\n",
        "df_best_scorers = df.groupby(\"season\")['pts'].max()\n",
        "df_best_scorers"
      ],
      "metadata": {
        "id": "BA2elNf3sARi"
      },
      "execution_count": null,
      "outputs": []
    },
    {
      "cell_type": "code",
      "source": [
        "#Pegando o indice de cada \"melhor pontuador\" e relacionando com a sua idade\n",
        "\n",
        "row_index = df.groupby('season')['pts'].idxmax()\n",
        "name = df.loc[row_index, 'age']\n",
        "idade = pd.DataFrame(name)\n",
        "idade"
      ],
      "metadata": {
        "colab": {
          "base_uri": "https://localhost:8080/",
          "height": 865
        },
        "id": "Y9zPzh5UsJKh",
        "outputId": "39aa0704-c539-42a7-933b-4feaadf33a70"
      },
      "execution_count": 354,
      "outputs": [
        {
          "output_type": "execute_result",
          "data": {
            "text/plain": [
              "        age\n",
              "392    34.0\n",
              "479    35.0\n",
              "1019   24.0\n",
              "1554   28.0\n",
              "1920   26.0\n",
              "2489   27.0\n",
              "2953   24.0\n",
              "3181   25.0\n",
              "3664   30.0\n",
              "4342   27.0\n",
              "4703   28.0\n",
              "5277   23.0\n",
              "5690   27.0\n",
              "6084   21.0\n",
              "6460   22.0\n",
              "7132   23.0\n",
              "7587   29.0\n",
              "7928   25.0\n",
              "8312   26.0\n",
              "8739   28.0\n",
              "9143   28.0\n",
              "9706   28.0\n",
              "10572  29.0\n",
              "11041  30.0\n",
              "11335  33.0\n",
              "11796  28.0"
            ],
            "text/html": [
              "\n",
              "  <div id=\"df-9d056fbf-c8d2-4202-84bb-618b5f2b6cc4\">\n",
              "    <div class=\"colab-df-container\">\n",
              "      <div>\n",
              "<style scoped>\n",
              "    .dataframe tbody tr th:only-of-type {\n",
              "        vertical-align: middle;\n",
              "    }\n",
              "\n",
              "    .dataframe tbody tr th {\n",
              "        vertical-align: top;\n",
              "    }\n",
              "\n",
              "    .dataframe thead th {\n",
              "        text-align: right;\n",
              "    }\n",
              "</style>\n",
              "<table border=\"1\" class=\"dataframe\">\n",
              "  <thead>\n",
              "    <tr style=\"text-align: right;\">\n",
              "      <th></th>\n",
              "      <th>age</th>\n",
              "    </tr>\n",
              "  </thead>\n",
              "  <tbody>\n",
              "    <tr>\n",
              "      <th>392</th>\n",
              "      <td>34.0</td>\n",
              "    </tr>\n",
              "    <tr>\n",
              "      <th>479</th>\n",
              "      <td>35.0</td>\n",
              "    </tr>\n",
              "    <tr>\n",
              "      <th>1019</th>\n",
              "      <td>24.0</td>\n",
              "    </tr>\n",
              "    <tr>\n",
              "      <th>1554</th>\n",
              "      <td>28.0</td>\n",
              "    </tr>\n",
              "    <tr>\n",
              "      <th>1920</th>\n",
              "      <td>26.0</td>\n",
              "    </tr>\n",
              "    <tr>\n",
              "      <th>2489</th>\n",
              "      <td>27.0</td>\n",
              "    </tr>\n",
              "    <tr>\n",
              "      <th>2953</th>\n",
              "      <td>24.0</td>\n",
              "    </tr>\n",
              "    <tr>\n",
              "      <th>3181</th>\n",
              "      <td>25.0</td>\n",
              "    </tr>\n",
              "    <tr>\n",
              "      <th>3664</th>\n",
              "      <td>30.0</td>\n",
              "    </tr>\n",
              "    <tr>\n",
              "      <th>4342</th>\n",
              "      <td>27.0</td>\n",
              "    </tr>\n",
              "    <tr>\n",
              "      <th>4703</th>\n",
              "      <td>28.0</td>\n",
              "    </tr>\n",
              "    <tr>\n",
              "      <th>5277</th>\n",
              "      <td>23.0</td>\n",
              "    </tr>\n",
              "    <tr>\n",
              "      <th>5690</th>\n",
              "      <td>27.0</td>\n",
              "    </tr>\n",
              "    <tr>\n",
              "      <th>6084</th>\n",
              "      <td>21.0</td>\n",
              "    </tr>\n",
              "    <tr>\n",
              "      <th>6460</th>\n",
              "      <td>22.0</td>\n",
              "    </tr>\n",
              "    <tr>\n",
              "      <th>7132</th>\n",
              "      <td>23.0</td>\n",
              "    </tr>\n",
              "    <tr>\n",
              "      <th>7587</th>\n",
              "      <td>29.0</td>\n",
              "    </tr>\n",
              "    <tr>\n",
              "      <th>7928</th>\n",
              "      <td>25.0</td>\n",
              "    </tr>\n",
              "    <tr>\n",
              "      <th>8312</th>\n",
              "      <td>26.0</td>\n",
              "    </tr>\n",
              "    <tr>\n",
              "      <th>8739</th>\n",
              "      <td>28.0</td>\n",
              "    </tr>\n",
              "    <tr>\n",
              "      <th>9143</th>\n",
              "      <td>28.0</td>\n",
              "    </tr>\n",
              "    <tr>\n",
              "      <th>9706</th>\n",
              "      <td>28.0</td>\n",
              "    </tr>\n",
              "    <tr>\n",
              "      <th>10572</th>\n",
              "      <td>29.0</td>\n",
              "    </tr>\n",
              "    <tr>\n",
              "      <th>11041</th>\n",
              "      <td>30.0</td>\n",
              "    </tr>\n",
              "    <tr>\n",
              "      <th>11335</th>\n",
              "      <td>33.0</td>\n",
              "    </tr>\n",
              "    <tr>\n",
              "      <th>11796</th>\n",
              "      <td>28.0</td>\n",
              "    </tr>\n",
              "  </tbody>\n",
              "</table>\n",
              "</div>\n",
              "      <button class=\"colab-df-convert\" onclick=\"convertToInteractive('df-9d056fbf-c8d2-4202-84bb-618b5f2b6cc4')\"\n",
              "              title=\"Convert this dataframe to an interactive table.\"\n",
              "              style=\"display:none;\">\n",
              "        \n",
              "  <svg xmlns=\"http://www.w3.org/2000/svg\" height=\"24px\"viewBox=\"0 0 24 24\"\n",
              "       width=\"24px\">\n",
              "    <path d=\"M0 0h24v24H0V0z\" fill=\"none\"/>\n",
              "    <path d=\"M18.56 5.44l.94 2.06.94-2.06 2.06-.94-2.06-.94-.94-2.06-.94 2.06-2.06.94zm-11 1L8.5 8.5l.94-2.06 2.06-.94-2.06-.94L8.5 2.5l-.94 2.06-2.06.94zm10 10l.94 2.06.94-2.06 2.06-.94-2.06-.94-.94-2.06-.94 2.06-2.06.94z\"/><path d=\"M17.41 7.96l-1.37-1.37c-.4-.4-.92-.59-1.43-.59-.52 0-1.04.2-1.43.59L10.3 9.45l-7.72 7.72c-.78.78-.78 2.05 0 2.83L4 21.41c.39.39.9.59 1.41.59.51 0 1.02-.2 1.41-.59l7.78-7.78 2.81-2.81c.8-.78.8-2.07 0-2.86zM5.41 20L4 18.59l7.72-7.72 1.47 1.35L5.41 20z\"/>\n",
              "  </svg>\n",
              "      </button>\n",
              "      \n",
              "  <style>\n",
              "    .colab-df-container {\n",
              "      display:flex;\n",
              "      flex-wrap:wrap;\n",
              "      gap: 12px;\n",
              "    }\n",
              "\n",
              "    .colab-df-convert {\n",
              "      background-color: #E8F0FE;\n",
              "      border: none;\n",
              "      border-radius: 50%;\n",
              "      cursor: pointer;\n",
              "      display: none;\n",
              "      fill: #1967D2;\n",
              "      height: 32px;\n",
              "      padding: 0 0 0 0;\n",
              "      width: 32px;\n",
              "    }\n",
              "\n",
              "    .colab-df-convert:hover {\n",
              "      background-color: #E2EBFA;\n",
              "      box-shadow: 0px 1px 2px rgba(60, 64, 67, 0.3), 0px 1px 3px 1px rgba(60, 64, 67, 0.15);\n",
              "      fill: #174EA6;\n",
              "    }\n",
              "\n",
              "    [theme=dark] .colab-df-convert {\n",
              "      background-color: #3B4455;\n",
              "      fill: #D2E3FC;\n",
              "    }\n",
              "\n",
              "    [theme=dark] .colab-df-convert:hover {\n",
              "      background-color: #434B5C;\n",
              "      box-shadow: 0px 1px 3px 1px rgba(0, 0, 0, 0.15);\n",
              "      filter: drop-shadow(0px 1px 2px rgba(0, 0, 0, 0.3));\n",
              "      fill: #FFFFFF;\n",
              "    }\n",
              "  </style>\n",
              "\n",
              "      <script>\n",
              "        const buttonEl =\n",
              "          document.querySelector('#df-9d056fbf-c8d2-4202-84bb-618b5f2b6cc4 button.colab-df-convert');\n",
              "        buttonEl.style.display =\n",
              "          google.colab.kernel.accessAllowed ? 'block' : 'none';\n",
              "\n",
              "        async function convertToInteractive(key) {\n",
              "          const element = document.querySelector('#df-9d056fbf-c8d2-4202-84bb-618b5f2b6cc4');\n",
              "          const dataTable =\n",
              "            await google.colab.kernel.invokeFunction('convertToInteractive',\n",
              "                                                     [key], {});\n",
              "          if (!dataTable) return;\n",
              "\n",
              "          const docLinkHtml = 'Like what you see? Visit the ' +\n",
              "            '<a target=\"_blank\" href=https://colab.research.google.com/notebooks/data_table.ipynb>data table notebook</a>'\n",
              "            + ' to learn more about interactive tables.';\n",
              "          element.innerHTML = '';\n",
              "          dataTable['output_type'] = 'display_data';\n",
              "          await google.colab.output.renderOutput(dataTable, element);\n",
              "          const docLink = document.createElement('div');\n",
              "          docLink.innerHTML = docLinkHtml;\n",
              "          element.appendChild(docLink);\n",
              "        }\n",
              "      </script>\n",
              "    </div>\n",
              "  </div>\n",
              "  "
            ]
          },
          "metadata": {},
          "execution_count": 354
        }
      ]
    },
    {
      "cell_type": "code",
      "source": [
        "#Unindo os dois dataframes\n",
        "idade.index = df_best_scorers.index\n",
        "df_best_scorers['idade'] = idade['age']\n",
        "df_best_scorers"
      ],
      "metadata": {
        "colab": {
          "base_uri": "https://localhost:8080/"
        },
        "id": "BDU9e3NjsZLy",
        "outputId": "8a7a8738-b9b2-46c1-b9d2-465670e596b7"
      },
      "execution_count": 355,
      "outputs": [
        {
          "output_type": "execute_result",
          "data": {
            "text/plain": [
              "season\n",
              "1996-97                                                 29.6\n",
              "1997-98                                                 28.7\n",
              "1998-99                                                 26.8\n",
              "1999-00                                                 29.7\n",
              "2000-01                                                 31.1\n",
              "2001-02                                                 31.4\n",
              "2002-03                                                 32.1\n",
              "2003-04                                                 28.0\n",
              "2004-05                                                 30.7\n",
              "2005-06                                                 35.4\n",
              "2006-07                                                 31.6\n",
              "2007-08                                                 30.0\n",
              "2008-09                                                 30.2\n",
              "2009-10                                                 30.1\n",
              "2010-11                                                 27.7\n",
              "2011-12                                                 28.0\n",
              "2012-13                                                 28.7\n",
              "2013-14                                                 32.0\n",
              "2014-15                                                 28.1\n",
              "2015-16                                                 30.1\n",
              "2016-17                                                 31.6\n",
              "2017-18                                                 30.4\n",
              "2018-19                                                 36.1\n",
              "2019-20                                                 34.3\n",
              "2020-21                                                 32.0\n",
              "2021-22                                                 30.6\n",
              "idade      season\n",
              "1996-97    34.0\n",
              "1997-98    35.0\n",
              "1998-99...\n",
              "Name: pts, dtype: object"
            ]
          },
          "metadata": {},
          "execution_count": 355
        }
      ]
    },
    {
      "cell_type": "code",
      "source": [
        "#Calculo a media de idade entre os maiores pontuadores.\n",
        "media_best_scorers = df_best_scorers['idade'].mean()"
      ],
      "metadata": {
        "id": "qHVu0MNeteuP"
      },
      "execution_count": 358,
      "outputs": []
    },
    {
      "cell_type": "code",
      "source": [
        "print(f\"A média geral da idade dos melhores pontuadores de cada temporada é: {round(media_best_scorers, 2)} anos.\")"
      ],
      "metadata": {
        "colab": {
          "base_uri": "https://localhost:8080/"
        },
        "id": "LrysYb2EtkBv",
        "outputId": "591d6fff-4c6a-4eff-841b-3c134bbcf668"
      },
      "execution_count": 359,
      "outputs": [
        {
          "output_type": "stream",
          "name": "stdout",
          "text": [
            "A média geral da idade dos melhores pontuadores de cada temporada é: 27.23 anos.\n"
          ]
        }
      ]
    },
    {
      "cell_type": "code",
      "source": [],
      "metadata": {
        "id": "xhTLaSYauTXE"
      },
      "execution_count": null,
      "outputs": []
    }
  ]
}